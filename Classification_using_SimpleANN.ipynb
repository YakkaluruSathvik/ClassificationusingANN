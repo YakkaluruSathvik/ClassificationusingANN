{
  "nbformat": 4,
  "nbformat_minor": 0,
  "metadata": {
    "colab": {
      "provenance": []
    },
    "kernelspec": {
      "name": "python3",
      "display_name": "Python 3"
    },
    "language_info": {
      "name": "python"
    }
  },
  "cells": [
    {
      "cell_type": "markdown",
      "source": [
        "Creating a Simple **Artificial Neural Network** for *Classification Problem*"
      ],
      "metadata": {
        "id": "_uRUsgpUDcIw"
      }
    },
    {
      "cell_type": "code",
      "source": [
        "# Importing required modules\n",
        "import numpy as np\n",
        "import matplotlib.pyplot as plt"
      ],
      "metadata": {
        "id": "bo-dJMfNDR2Q"
      },
      "execution_count": 323,
      "outputs": []
    },
    {
      "cell_type": "code",
      "source": [
        "# Activation Function - Sigmoid & it's derivative Function\n",
        "def sigmoid(x):\n",
        "    return 1/(1+np.exp(-x))\n",
        "def sigmoid_derivative(sgm):\n",
        "    return sgm*(1-sgm)"
      ],
      "metadata": {
        "id": "xDoZeOFPFxte"
      },
      "execution_count": 324,
      "outputs": []
    },
    {
      "cell_type": "code",
      "source": [
        "# For a Simple 1 Input - 1 Output Neural Network\n",
        "def output(x,w):\n",
        "    x = x.astype(float)\n",
        "    y = sigmoid(np.dot(x,w))\n",
        "    return y"
      ],
      "metadata": {
        "id": "7_cpgYFcFyni"
      },
      "execution_count": 325,
      "outputs": []
    },
    {
      "cell_type": "code",
      "source": [
        "# Training the ANN and tuning the weights by back propagation\n",
        "def train(training_inputs,training_outputs,no_of_iterations,weights):\n",
        "    for _ in range(no_of_iterations):\n",
        "        y = output(training_inputs,weights)\n",
        "        error = training_outputs-y\n",
        "        adjustments = np.dot(training_inputs.T,error*sigmoid_derivative(y))\n",
        "        weights += adjustments\n",
        "    plt.figure()\n",
        "    plt.plot(error)\n",
        "    plt.title('Error vs Number of Iterations')\n",
        "    plt.xlabel('Iteration number')\n",
        "    plt.ylabel('Error')\n",
        "\n",
        "    plt.figure()\n",
        "    plt.plot(y)\n",
        "    plt.title('Predicted Output vs Number of Iterations')\n",
        "    plt.xlabel('Iteration number')\n",
        "    plt.ylabel('Predicted Output')"
      ],
      "metadata": {
        "id": "Vyfd677GHi95"
      },
      "execution_count": 326,
      "outputs": []
    },
    {
      "cell_type": "code",
      "source": [
        "# Data \n",
        "training_inputs = np.array([[1,0,0,1,0,1,1],\n",
        "                            [0,1,1,0,1,0,0],\n",
        "                            [1,0,1,0,0,0,1],\n",
        "                            [0,0,0,1,0,0,0],\n",
        "                            [1,1,0,1,0,1,1],\n",
        "                            [0,1,0,0,0,0,0],\n",
        "                            [0,0,1,0,1,0,1]])\n",
        "training_outputs = np.array([[1],\n",
        "                             [0],\n",
        "                             [0],\n",
        "                             [1],\n",
        "                             [1],\n",
        "                             [1],\n",
        "                             [0]])\n",
        "number_of_iterations = 100000"
      ],
      "metadata": {
        "id": "tqyqYhMQD1wZ"
      },
      "execution_count": 327,
      "outputs": []
    },
    {
      "cell_type": "code",
      "source": [
        "# Initializing Weights - Random Weigths between 0 and 1\n",
        "weights = np.random.random((len(training_outputs),1))\n",
        "print('Weights before Training')\n",
        "weights"
      ],
      "metadata": {
        "colab": {
          "base_uri": "https://localhost:8080/"
        },
        "id": "S0-8NJ5nE8_J",
        "outputId": "007b2d3e-eb3d-4dd7-e47d-9d7a62d77b6d"
      },
      "execution_count": 328,
      "outputs": [
        {
          "output_type": "stream",
          "name": "stdout",
          "text": [
            "Weights before Training\n"
          ]
        },
        {
          "output_type": "execute_result",
          "data": {
            "text/plain": [
              "array([[0.54658874],\n",
              "       [0.11815965],\n",
              "       [0.95160799],\n",
              "       [0.27990969],\n",
              "       [0.36420245],\n",
              "       [0.14973042],\n",
              "       [0.20179901]])"
            ]
          },
          "metadata": {},
          "execution_count": 328
        }
      ]
    },
    {
      "cell_type": "code",
      "source": [
        "train(training_inputs,training_outputs,number_of_iterations,weights)"
      ],
      "metadata": {
        "colab": {
          "base_uri": "https://localhost:8080/",
          "height": 573
        },
        "id": "Cyrw7airLG32",
        "outputId": "4a861236-c9a3-4c8a-9422-961cda92a1bc"
      },
      "execution_count": 329,
      "outputs": [
        {
          "output_type": "display_data",
          "data": {
            "text/plain": [
              "<Figure size 432x288 with 1 Axes>"
            ],
            "image/png": "[encoded data removed]"
          },
          "metadata": {
            "needs_background": "light"
          }
        },
        {
          "output_type": "display_data",
          "data": {
            "text/plain": [
              "<Figure size 432x288 with 1 Axes>"
            ],
            "image/png": "[encoded data removed]"
          },
          "metadata": {
            "needs_background": "light"
          }
        }
      ]
    },
    {
      "cell_type": "code",
      "source": [
        "print('Weights after Training')\n",
        "weights"
      ],
      "metadata": {
        "colab": {
          "base_uri": "https://localhost:8080/"
        },
        "id": "yhM_bDCgL_ns",
        "outputId": "c6eef813-a45c-44a5-907e-0535b3e4df7d"
      },
      "execution_count": 330,
      "outputs": [
        {
          "output_type": "stream",
          "name": "stdout",
          "text": [
            "Weights after Training\n"
          ]
        },
        {
          "output_type": "execute_result",
          "data": {
            "text/plain": [
              "array([[ 0.15193567],\n",
              "       [ 5.76319589],\n",
              "       [-6.60589543],\n",
              "       [ 6.15822094],\n",
              "       [-5.28356361],\n",
              "       [ 1.66481471],\n",
              "       [-0.74219447]])"
            ]
          },
          "metadata": {},
          "execution_count": 330
        }
      ]
    },
    {
      "cell_type": "code",
      "source": [
        "# Testing the ANN\n",
        "test_input = np.array([0,0,1,0,1,0,1])\n",
        "test_output = output(test_input,weights)"
      ],
      "metadata": {
        "id": "uCkkdQOqMGEQ"
      },
      "execution_count": 331,
      "outputs": []
    },
    {
      "cell_type": "code",
      "source": [
        "print(test_output)"
      ],
      "metadata": {
        "colab": {
          "base_uri": "https://localhost:8080/"
        },
        "id": "GIYcI0yrPdJJ",
        "outputId": "32f0e544-f636-4642-9e71-210575712fcf"
      },
      "execution_count": 332,
      "outputs": [
        {
          "output_type": "stream",
          "name": "stdout",
          "text": [
            "[3.26694005e-06]\n"
          ]
        }
      ]
    }
  ]
}